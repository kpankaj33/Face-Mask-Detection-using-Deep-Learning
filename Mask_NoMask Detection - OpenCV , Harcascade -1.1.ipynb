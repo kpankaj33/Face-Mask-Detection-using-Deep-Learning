{
 "cells": [
  {
   "cell_type": "code",
   "execution_count": 1,
   "id": "c88f8836",
   "metadata": {},
   "outputs": [],
   "source": [
    "import cv2\n",
    "import numpy as np\n",
    "from keras.models import load_model\n",
    "#model = load_model(\"F:\\pranjal\\knowledge\\data analytics\\R programing\\conducting classes\\PythonModel\\my_mask_NoMask_model.h5\") \n",
    "model=load_model(\"Mask_Nomask.h5\")\n",
    "\n",
    "results={0:'Mask  found',1:'Mask not found '}\n",
    "GR_dict={0:(0,255,255),1:(0,255,0)}\n",
    "\n",
    "rect_size = 4\n",
    "cap = cv2.VideoCapture(0) \n",
    "\n",
    "haarcascade = cv2.CascadeClassifier(r\"S:\\mask no mask current\\Harcascade\\haarcascade_frontalface_alt.xml\")\n",
    "while True:\n",
    "    (rval, im) = cap.read()\n",
    "    im=cv2.flip(im,1,1)\n",
    "\n",
    "    rerect_size = cv2.resize(im, (im.shape[1] // rect_size, im.shape[0] // rect_size))\n",
    "    faces = haarcascade.detectMultiScale(rerect_size)\n",
    "    for f in faces:\n",
    "        (x, y, w, h) = [v * rect_size for v in f] \n",
    "        \n",
    "        face_img = im[y:y+h, x:x+w]\n",
    "        rerect_sized=cv2.resize(face_img,(200,200))\n",
    "        normalized=rerect_sized/255.0\n",
    "        reshaped=np.reshape(normalized,(1,200,200,3))\n",
    "        reshaped = np.vstack([reshaped])\n",
    "        result=model.predict(reshaped)\n",
    "\n",
    "        \n",
    "        label=np.argmax(result,axis=1)[0]\n",
    "      \n",
    "        cv2.rectangle(im,(x,y),(x+w,y+h),GR_dict[label],2)\n",
    "        cv2.rectangle(im,(x,y-40),(x+w,y),GR_dict[label],-1)\n",
    "        cv2.putText(im, results[label], (x, y-10),cv2.FONT_HERSHEY_SIMPLEX,0.8,(255,0,0),2)\n",
    "\n",
    "    cv2.imshow('Liv Camera',   im)\n",
    "    key = cv2.waitKey(10)\n",
    "    \n",
    "    if key == 27: # use the escape key\n",
    "        break\n",
    "\n",
    "cap.release()\n",
    "\n",
    "cv2.destroyAllWindows()\n"
   ]
  },
  {
   "cell_type": "code",
   "execution_count": 2,
   "id": "bf63769e",
   "metadata": {},
   "outputs": [
    {
     "data": {
      "text/plain": [
       "array([[[[0.45098039, 0.45098039, 0.49411765],\n",
       "         [0.44705882, 0.45490196, 0.48627451],\n",
       "         [0.45490196, 0.4627451 , 0.48627451],\n",
       "         ...,\n",
       "         [0.45882353, 0.45098039, 0.50196078],\n",
       "         [0.46666667, 0.45882353, 0.50196078],\n",
       "         [0.48235294, 0.47058824, 0.50588235]],\n",
       "\n",
       "        [[0.45098039, 0.44705882, 0.47843137],\n",
       "         [0.43921569, 0.43921569, 0.46666667],\n",
       "         [0.44313725, 0.44313725, 0.46666667],\n",
       "         ...,\n",
       "         [0.47843137, 0.47058824, 0.51764706],\n",
       "         [0.49019608, 0.4745098 , 0.51372549],\n",
       "         [0.50196078, 0.48627451, 0.51372549]],\n",
       "\n",
       "        [[0.45098039, 0.44313725, 0.45882353],\n",
       "         [0.44313725, 0.43921569, 0.45490196],\n",
       "         [0.43921569, 0.43529412, 0.45490196],\n",
       "         ...,\n",
       "         [0.4745098 , 0.47058824, 0.51764706],\n",
       "         [0.49803922, 0.48235294, 0.52156863],\n",
       "         [0.52156863, 0.49803922, 0.52941176]],\n",
       "\n",
       "        ...,\n",
       "\n",
       "        [[0.02352941, 0.11372549, 0.14509804],\n",
       "         [0.01960784, 0.13333333, 0.14509804],\n",
       "         [0.01176471, 0.13333333, 0.14117647],\n",
       "         ...,\n",
       "         [0.14117647, 0.23921569, 0.2627451 ],\n",
       "         [0.15294118, 0.24313725, 0.25882353],\n",
       "         [0.14509804, 0.23137255, 0.25098039]],\n",
       "\n",
       "        [[0.02745098, 0.11372549, 0.15686275],\n",
       "         [0.03137255, 0.13333333, 0.16470588],\n",
       "         [0.02352941, 0.1372549 , 0.16078431],\n",
       "         ...,\n",
       "         [0.1372549 , 0.22352941, 0.2627451 ],\n",
       "         [0.16470588, 0.23137255, 0.27058824],\n",
       "         [0.16862745, 0.21960784, 0.27058824]],\n",
       "\n",
       "        [[0.02745098, 0.10980392, 0.16862745],\n",
       "         [0.03921569, 0.13333333, 0.18431373],\n",
       "         [0.02745098, 0.1254902 , 0.17647059],\n",
       "         ...,\n",
       "         [0.14509804, 0.22745098, 0.28235294],\n",
       "         [0.16078431, 0.21568627, 0.27843137],\n",
       "         [0.18039216, 0.21176471, 0.28627451]]]])"
      ]
     },
     "execution_count": 2,
     "metadata": {},
     "output_type": "execute_result"
    }
   ],
   "source": [
    "reshaped"
   ]
  },
  {
   "cell_type": "code",
   "execution_count": null,
   "id": "2024004c",
   "metadata": {},
   "outputs": [],
   "source": []
  }
 ],
 "metadata": {
  "kernelspec": {
   "display_name": "Python 3",
   "language": "python",
   "name": "python3"
  },
  "language_info": {
   "codemirror_mode": {
    "name": "ipython",
    "version": 3
   },
   "file_extension": ".py",
   "mimetype": "text/x-python",
   "name": "python",
   "nbconvert_exporter": "python",
   "pygments_lexer": "ipython3",
   "version": "3.8.8"
  }
 },
 "nbformat": 4,
 "nbformat_minor": 5
}
